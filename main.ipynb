{
  "cells": [
    {
      "cell_type": "code",
      "execution_count": 1,
      "metadata": {
        "id": "h8KrTCDHKaxH"
      },
      "outputs": [
        {
          "name": "stderr",
          "output_type": "stream",
          "text": [
            "2024-05-23 20:53:33.353177: I tensorflow/core/platform/cpu_feature_guard.cc:193] This TensorFlow binary is optimized with oneAPI Deep Neural Network Library (oneDNN) to use the following CPU instructions in performance-critical operations:  AVX2 FMA\n",
            "To enable them in other operations, rebuild TensorFlow with the appropriate compiler flags.\n",
            "2024-05-23 20:53:34.235731: W tensorflow/compiler/xla/stream_executor/platform/default/dso_loader.cc:64] Could not load dynamic library 'libnvinfer.so.7'; dlerror: libnvinfer.so.7: cannot open shared object file: No such file or directory; LD_LIBRARY_PATH: /usr/local/cuda-11.8/lib64\n",
            "2024-05-23 20:53:34.235874: W tensorflow/compiler/xla/stream_executor/platform/default/dso_loader.cc:64] Could not load dynamic library 'libnvinfer_plugin.so.7'; dlerror: libnvinfer_plugin.so.7: cannot open shared object file: No such file or directory; LD_LIBRARY_PATH: /usr/local/cuda-11.8/lib64\n",
            "2024-05-23 20:53:34.235885: W tensorflow/compiler/tf2tensorrt/utils/py_utils.cc:38] TF-TRT Warning: Cannot dlopen some TensorRT libraries. If you would like to use Nvidia GPU with TensorRT, please make sure the missing libraries mentioned above are installed properly.\n"
          ]
        }
      ],
      "source": [
        "import numpy as np\n",
        "import numpy\n",
        "from PIL import Image\n",
        "import pathlib\n",
        "import sklearn\n",
        "from matplotlib import pyplot as plt\n",
        "from sklearn.metrics import *\n",
        "from sklearn.preprocessing import *\n",
        "from tensorflow.keras.models import *\n",
        "from tensorflow.keras.layers import *\n",
        "from tensorflow.keras.layers import Dense, InputLayer\n",
        "from tensorflow.keras.models import Sequential\n",
        "from tensorflow.keras.preprocessing import *\n",
        "from tensorflow.keras.optimizers.legacy import Adam\n",
        "from tensorflow.keras.losses import CategoricalCrossentropy"
      ]
    },
    {
      "cell_type": "code",
      "execution_count": 2,
      "metadata": {
        "colab": {
          "base_uri": "https://localhost:8080/"
        },
        "id": "_7YBInwg3ZkX",
        "outputId": "844c683b-4757-43d5-b16a-842704de89fa"
      },
      "outputs": [
        {
          "name": "stdout",
          "output_type": "stream",
          "text": [
            "Found 22169 files belonging to 41 classes.\n",
            "Using 17736 files for training.\n"
          ]
        },
        {
          "name": "stderr",
          "output_type": "stream",
          "text": [
            "2024-05-23 20:53:38.560222: I tensorflow/compiler/xla/stream_executor/cuda/cuda_gpu_executor.cc:967] could not open file to read NUMA node: /sys/bus/pci/devices/0000:06:00.0/numa_node\n",
            "Your kernel may have been built without NUMA support.\n",
            "2024-05-23 20:53:38.611618: I tensorflow/compiler/xla/stream_executor/cuda/cuda_gpu_executor.cc:967] could not open file to read NUMA node: /sys/bus/pci/devices/0000:06:00.0/numa_node\n",
            "Your kernel may have been built without NUMA support.\n",
            "2024-05-23 20:53:38.611984: I tensorflow/compiler/xla/stream_executor/cuda/cuda_gpu_executor.cc:967] could not open file to read NUMA node: /sys/bus/pci/devices/0000:06:00.0/numa_node\n",
            "Your kernel may have been built without NUMA support.\n",
            "2024-05-23 20:53:38.613147: I tensorflow/core/platform/cpu_feature_guard.cc:193] This TensorFlow binary is optimized with oneAPI Deep Neural Network Library (oneDNN) to use the following CPU instructions in performance-critical operations:  AVX2 FMA\n",
            "To enable them in other operations, rebuild TensorFlow with the appropriate compiler flags.\n",
            "2024-05-23 20:53:38.614121: I tensorflow/compiler/xla/stream_executor/cuda/cuda_gpu_executor.cc:967] could not open file to read NUMA node: /sys/bus/pci/devices/0000:06:00.0/numa_node\n",
            "Your kernel may have been built without NUMA support.\n",
            "2024-05-23 20:53:38.614399: I tensorflow/compiler/xla/stream_executor/cuda/cuda_gpu_executor.cc:967] could not open file to read NUMA node: /sys/bus/pci/devices/0000:06:00.0/numa_node\n",
            "Your kernel may have been built without NUMA support.\n",
            "2024-05-23 20:53:38.614647: I tensorflow/compiler/xla/stream_executor/cuda/cuda_gpu_executor.cc:967] could not open file to read NUMA node: /sys/bus/pci/devices/0000:06:00.0/numa_node\n",
            "Your kernel may have been built without NUMA support.\n",
            "2024-05-23 20:53:38.875668: I tensorflow/compiler/xla/stream_executor/cuda/cuda_gpu_executor.cc:967] could not open file to read NUMA node: /sys/bus/pci/devices/0000:06:00.0/numa_node\n",
            "Your kernel may have been built without NUMA support.\n",
            "2024-05-23 20:53:38.876105: I tensorflow/compiler/xla/stream_executor/cuda/cuda_gpu_executor.cc:967] could not open file to read NUMA node: /sys/bus/pci/devices/0000:06:00.0/numa_node\n",
            "Your kernel may have been built without NUMA support.\n",
            "2024-05-23 20:53:38.876125: I tensorflow/core/common_runtime/gpu/gpu_device.cc:1700] Could not identify NUMA node of platform GPU id 0, defaulting to 0.  Your kernel may not have been built with NUMA support.\n",
            "2024-05-23 20:53:38.876491: I tensorflow/compiler/xla/stream_executor/cuda/cuda_gpu_executor.cc:967] could not open file to read NUMA node: /sys/bus/pci/devices/0000:06:00.0/numa_node\n",
            "Your kernel may have been built without NUMA support.\n",
            "2024-05-23 20:53:38.876532: I tensorflow/core/common_runtime/gpu/gpu_device.cc:1613] Created device /job:localhost/replica:0/task:0/device:GPU:0 with 5592 MB memory:  -> device: 0, name: NVIDIA GeForce RTX 3060 Ti, pci bus id: 0000:06:00.0, compute capability: 8.6\n"
          ]
        },
        {
          "name": "stdout",
          "output_type": "stream",
          "text": [
            "Found 22169 files belonging to 41 classes.\n",
            "Using 4433 files for validation.\n"
          ]
        }
      ],
      "source": [
        "train_data_dir = \"./preprocessed_data/\"\n",
        "\n",
        "image_size = (224, 224)\n",
        "batch_size = 128\n",
        "\n",
        "train = image_dataset_from_directory(\n",
        "    train_data_dir,\n",
        "    validation_split=0.2,\n",
        "    seed=1,\n",
        "    subset =\"training\",\n",
        "    batch_size=batch_size,\n",
        "    label_mode=\"categorical\",\n",
        "    shuffle=True,\n",
        "    image_size=image_size\n",
        ")\n",
        "\n",
        "validation_dataset = image_dataset_from_directory(\n",
        "    train_data_dir,\n",
        "    validation_split=0.2,\n",
        "    seed=1,\n",
        "    subset =\"validation\",\n",
        "    batch_size=batch_size,\n",
        "    label_mode=\"categorical\",\n",
        "    image_size=image_size\n",
        ")"
      ]
    },
    {
      "cell_type": "code",
      "execution_count": 3,
      "metadata": {
        "id": "fFdIAO8H5MK2"
      },
      "outputs": [
        {
          "name": "stdout",
          "output_type": "stream",
          "text": [
            "WARNING:tensorflow:Please fix your imports. Module tensorflow.python.training.tracking.data_structures has been moved to tensorflow.python.trackable.data_structures. The old module will be deleted in version 2.11.\n",
            "WARNING:tensorflow:From /home/redba11/anaconda3/envs/hard_archive_ocr/lib/python3.10/site-packages/tensorflow/python/autograph/pyct/static_analysis/liveness.py:83: Analyzer.lamba_check (from tensorflow.python.autograph.pyct.static_analysis.liveness) is deprecated and will be removed after 2023-09-23.\n",
            "Instructions for updating:\n",
            "Lambda fuctions will be no more assumed to be used in the statement where they are used, or at least in the same block. https://github.com/tensorflow/tensorflow/issues/56089\n"
          ]
        },
        {
          "name": "stderr",
          "output_type": "stream",
          "text": [
            "WARNING:tensorflow:From /home/redba11/anaconda3/envs/hard_archive_ocr/lib/python3.10/site-packages/tensorflow/python/autograph/pyct/static_analysis/liveness.py:83: Analyzer.lamba_check (from tensorflow.python.autograph.pyct.static_analysis.liveness) is deprecated and will be removed after 2023-09-23.\n",
            "Instructions for updating:\n",
            "Lambda fuctions will be no more assumed to be used in the statement where they are used, or at least in the same block. https://github.com/tensorflow/tensorflow/issues/56089\n"
          ]
        }
      ],
      "source": [
        "import tensorflow_hub as hub\n",
        "output_shape = 41\n",
        "input_size = (224, 224, 3)\n",
        "model_url = \"https://kaggle.com/models/google/mobilenet-v2/TensorFlow2/130-224-classification/1\"\n",
        "\n",
        "model = Sequential([\n",
        "    InputLayer(input_shape=input_size),\n",
        "    hub.KerasLayer(model_url),\n",
        "    Dense(units=output_shape, activation='softmax')\n",
        "])\n",
        "\n",
        "lr = 1e-3\n",
        "\n",
        "model.compile(\n",
        "        optimizer=Adam(learning_rate=lr),\n",
        "        loss=CategoricalCrossentropy(),\n",
        "        metrics=[\"accuracy\"]\n",
        ")\n",
        "\n",
        "model.build((batch_size, ) + input_size)"
      ]
    },
    {
      "cell_type": "code",
      "execution_count": 4,
      "metadata": {
        "colab": {
          "base_uri": "https://localhost:8080/"
        },
        "id": "IUS_htca_8M_",
        "outputId": "861f4916-bcc3-4d69-ac54-8fb4de89507f"
      },
      "outputs": [
        {
          "name": "stdout",
          "output_type": "stream",
          "text": [
            "Model: \"sequential\"\n",
            "_________________________________________________________________\n",
            " Layer (type)                Output Shape              Param #   \n",
            "=================================================================\n",
            " keras_layer (KerasLayer)    (None, 1001)              5432713   \n",
            "                                                                 \n",
            " dense (Dense)               (None, 41)                41082     \n",
            "                                                                 \n",
            "=================================================================\n",
            "Total params: 5,473,795\n",
            "Trainable params: 41,082\n",
            "Non-trainable params: 5,432,713\n",
            "_________________________________________________________________\n"
          ]
        }
      ],
      "source": [
        "model.summary()"
      ]
    },
    {
      "cell_type": "code",
      "execution_count": 5,
      "metadata": {
        "colab": {
          "base_uri": "https://localhost:8080/",
          "height": 547
        },
        "id": "JOHf5E579s38",
        "outputId": "0a062ed5-f893-4c11-db5c-7df924d220ef"
      },
      "outputs": [
        {
          "name": "stdout",
          "output_type": "stream",
          "text": [
            "Epoch 1/10\n"
          ]
        },
        {
          "name": "stderr",
          "output_type": "stream",
          "text": [
            "2024-05-23 20:54:28.741640: I tensorflow/compiler/xla/stream_executor/cuda/cuda_dnn.cc:428] Loaded cuDNN version 8901\n"
          ]
        },
        {
          "name": "stdout",
          "output_type": "stream",
          "text": [
            "  1/139 [..............................] - ETA: 14:17 - loss: 4.7203 - accuracy: 0.0312"
          ]
        },
        {
          "name": "stderr",
          "output_type": "stream",
          "text": [
            "2024-05-23 20:54:31.003234: I tensorflow/compiler/xla/stream_executor/cuda/cuda_blas.cc:630] TensorFloat-32 will be used for the matrix multiplication. This will only be logged once.\n"
          ]
        },
        {
          "name": "stdout",
          "output_type": "stream",
          "text": [
            "139/139 [==============================] - 40s 243ms/step - loss: 2.0149 - accuracy: 0.4459 - val_loss: 1.6684 - val_accuracy: 0.5292\n",
            "Epoch 2/10\n",
            "139/139 [==============================] - 29s 208ms/step - loss: 1.5436 - accuracy: 0.5457 - val_loss: 1.5409 - val_accuracy: 0.5671\n",
            "Epoch 3/10\n",
            "139/139 [==============================] - 19s 139ms/step - loss: 1.4252 - accuracy: 0.5766 - val_loss: 1.5033 - val_accuracy: 0.5678\n",
            "Epoch 4/10\n",
            "139/139 [==============================] - 19s 137ms/step - loss: 1.3616 - accuracy: 0.5911 - val_loss: 1.4841 - val_accuracy: 0.5723\n",
            "Epoch 5/10\n",
            "139/139 [==============================] - 19s 136ms/step - loss: 1.3117 - accuracy: 0.6032 - val_loss: 1.4796 - val_accuracy: 0.5737\n",
            "Epoch 6/10\n",
            "139/139 [==============================] - 19s 136ms/step - loss: 1.2801 - accuracy: 0.6131 - val_loss: 1.4297 - val_accuracy: 0.5919\n",
            "Epoch 7/10\n",
            "139/139 [==============================] - 19s 133ms/step - loss: 1.2479 - accuracy: 0.6222 - val_loss: 1.4201 - val_accuracy: 0.5892\n",
            "Epoch 8/10\n",
            "139/139 [==============================] - 19s 133ms/step - loss: 1.2274 - accuracy: 0.6240 - val_loss: 1.4269 - val_accuracy: 0.5870\n",
            "Epoch 9/10\n",
            "139/139 [==============================] - 19s 133ms/step - loss: 1.2013 - accuracy: 0.6277 - val_loss: 1.4129 - val_accuracy: 0.5881\n",
            "Epoch 10/10\n",
            "139/139 [==============================] - 19s 134ms/step - loss: 1.1796 - accuracy: 0.6373 - val_loss: 1.3985 - val_accuracy: 0.5917\n"
          ]
        }
      ],
      "source": [
        "trained_model = model.fit(\n",
        "    (train),\n",
        "    validation_data=(validation_dataset),\n",
        "    epochs = 10)"
      ]
    },
    {
      "cell_type": "code",
      "execution_count": 6,
      "metadata": {},
      "outputs": [
        {
          "data": {
            "text/plain": [
              "[<matplotlib.lines.Line2D at 0x7fac347a2fe0>]"
            ]
          },
          "execution_count": 6,
          "metadata": {},
          "output_type": "execute_result"
        },
        {
          "data": {
            "image/png": "[encoded data removed]",
            "text/plain": [
              "<Figure size 640x480 with 1 Axes>"
            ]
          },
          "metadata": {},
          "output_type": "display_data"
        }
      ],
      "source": [
        "plt.plot(range(10), trained_model.history['accuracy' ], 'blue') \n",
        "plt.plot(range(10), trained_model.history['val_accuracy'], 'red')"
      ]
    }
  ],
  "metadata": {
    "accelerator": "TPU",
    "colab": {
      "gpuType": "V28",
      "provenance": []
    },
    "kernelspec": {
      "display_name": "Python 3",
      "name": "python3"
    },
    "language_info": {
      "codemirror_mode": {
        "name": "ipython",
        "version": 3
      },
      "file_extension": ".py",
      "mimetype": "text/x-python",
      "name": "python",
      "nbconvert_exporter": "python",
      "pygments_lexer": "ipython3",
      "version": "3.10.9"
    }
  },
  "nbformat": 4,
  "nbformat_minor": 0
}
