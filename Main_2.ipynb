{
  "cells": [
    {
      "cell_type": "code",
      "execution_count": 2,
      "metadata": {
        "id": "h8KrTCDHKaxH"
      },
      "outputs": [],
      "source": [
        "import numpy as np\n",
        "import numpy\n",
        "import pandas as pd\n",
        "from PIL import Image\n",
        "import pathlib\n",
        "import sklearn\n",
        "from matplotlib import pyplot as plt\n",
        "from sklearn.metrics import *\n",
        "from sklearn.preprocessing import *\n",
        "from tensorflow.keras.models import *\n",
        "from tensorflow.keras.layers import *\n",
        "from tensorflow.keras.models import Sequential\n",
        "from tensorflow.keras.preprocessing import *\n",
        "from tensorflow.keras.optimizers.legacy import Adam\n",
        "from tensorflow.keras.losses import CategoricalCrossentropy"
      ]
    },
    {
      "cell_type": "code",
      "execution_count": 3,
      "metadata": {
        "colab": {
          "base_uri": "https://localhost:8080/",
          "height": 373
        },
        "id": "_7YBInwg3ZkX",
        "outputId": "56e45175-b18d-4b08-971f-ccc0af2c3892"
      },
      "outputs": [
        {
          "name": "stdout",
          "output_type": "stream",
          "text": [
            "Found 22169 files belonging to 41 classes.\n",
            "Using 17736 files for training.\n",
            "Found 22169 files belonging to 41 classes.\n",
            "Using 4433 files for validation.\n"
          ]
        }
      ],
      "source": [
        "train_data_dir = \"C:/Users/user/Desktop/preprocessed_data\"\n",
        "\n",
        "image_size = (224, 224)\n",
        "batch_size = 128\n",
        "\n",
        "train = image_dataset_from_directory(\n",
        "    train_data_dir,\n",
        "    validation_split=0.2,\n",
        "    seed=1,\n",
        "    subset =\"training\",\n",
        "    batch_size=batch_size,\n",
        "    label_mode=\"categorical\",\n",
        "    shuffle=True,\n",
        "    image_size=image_size\n",
        ")\n",
        "\n",
        "validation_dataset = image_dataset_from_directory(\n",
        "    train_data_dir,\n",
        "    validation_split=0.2,\n",
        "    seed=1,\n",
        "    subset =\"validation\",\n",
        "    batch_size=batch_size,\n",
        "    label_mode=\"categorical\",\n",
        "    image_size=image_size\n",
        ")"
      ]
    },
    {
      "cell_type": "code",
      "execution_count": 4,
      "metadata": {
        "id": "D5HIX7XzdE5b"
      },
      "outputs": [],
      "source": [
        "import tensorflow as tf\n",
        "\n",
        "def augment(image, label):\n",
        "  image = tf.image.random_flip_left_right(image)\n",
        "  return image, label\n",
        "\n",
        "train = train.map(augment)"
      ]
    },
    {
      "cell_type": "code",
      "execution_count": 5,
      "metadata": {
        "id": "GhlzPN2ic2bg"
      },
      "outputs": [
        {
          "name": "stdout",
          "output_type": "stream",
          "text": [
            "WARNING:tensorflow:From c:\\Users\\user\\AppData\\Local\\Programs\\Python\\Python311\\Lib\\site-packages\\keras\\src\\backend.py:1398: The name tf.executing_eagerly_outside_functions is deprecated. Please use tf.compat.v1.executing_eagerly_outside_functions instead.\n",
            "\n",
            "WARNING:tensorflow:From c:\\Users\\user\\AppData\\Local\\Programs\\Python\\Python311\\Lib\\site-packages\\tensorflow_hub\\resolver.py:120: The name tf.gfile.MakeDirs is deprecated. Please use tf.io.gfile.makedirs instead.\n",
            "\n"
          ]
        },
        {
          "name": "stderr",
          "output_type": "stream",
          "text": [
            "WARNING:tensorflow:From c:\\Users\\user\\AppData\\Local\\Programs\\Python\\Python311\\Lib\\site-packages\\tensorflow_hub\\resolver.py:120: The name tf.gfile.MakeDirs is deprecated. Please use tf.io.gfile.makedirs instead.\n",
            "\n"
          ]
        },
        {
          "name": "stdout",
          "output_type": "stream",
          "text": [
            "WARNING:tensorflow:From c:\\Users\\user\\AppData\\Local\\Programs\\Python\\Python311\\Lib\\site-packages\\tensorflow_hub\\module_v2.py:126: The name tf.saved_model.load_v2 is deprecated. Please use tf.compat.v2.saved_model.load instead.\n",
            "\n"
          ]
        },
        {
          "name": "stderr",
          "output_type": "stream",
          "text": [
            "WARNING:tensorflow:From c:\\Users\\user\\AppData\\Local\\Programs\\Python\\Python311\\Lib\\site-packages\\tensorflow_hub\\module_v2.py:126: The name tf.saved_model.load_v2 is deprecated. Please use tf.compat.v2.saved_model.load instead.\n",
            "\n"
          ]
        }
      ],
      "source": [
        "import tensorflow_hub as hub\n",
        "output_shape = 41\n",
        "input_size = (224, 224, 3)\n",
        "model_url = \"https://tfhub.dev/google/tf2-preview/mobilenet_v2/classification/4\"\n",
        "\n",
        "model = Sequential([\n",
        "    InputLayer(input_shape=input_size),\n",
        "    hub.KerasLayer(model_url),\n",
        "    Dense(units=output_shape, activation='softmax')\n",
        "])\n",
        "\n",
        "lr = 1e-3\n",
        "\n",
        "model.compile(\n",
        "        optimizer=Adam(learning_rate=lr),\n",
        "        loss=CategoricalCrossentropy(),\n",
        "        metrics=[\"accuracy\"]\n",
        ")\n",
        "\n",
        "model.build((batch_size, ) + input_size)"
      ]
    },
    {
      "cell_type": "code",
      "execution_count": 6,
      "metadata": {
        "colab": {
          "base_uri": "https://localhost:8080/"
        },
        "id": "IUS_htca_8M_",
        "outputId": "861f4916-bcc3-4d69-ac54-8fb4de89507f"
      },
      "outputs": [
        {
          "name": "stdout",
          "output_type": "stream",
          "text": [
            "Model: \"sequential\"\n",
            "_________________________________________________________________\n",
            " Layer (type)                Output Shape              Param #   \n",
            "=================================================================\n",
            " keras_layer (KerasLayer)    (None, 1001)              3540265   \n",
            "                                                                 \n",
            " dense (Dense)               (None, 41)                41082     \n",
            "                                                                 \n",
            "=================================================================\n",
            "Total params: 3581347 (13.66 MB)\n",
            "Trainable params: 41082 (160.48 KB)\n",
            "Non-trainable params: 3540265 (13.51 MB)\n",
            "_________________________________________________________________\n"
          ]
        }
      ],
      "source": [
        "model.summary()"
      ]
    },
    {
      "cell_type": "code",
      "execution_count": 7,
      "metadata": {
        "colab": {
          "base_uri": "https://localhost:8080/",
          "height": 547
        },
        "id": "JOHf5E579s38",
        "outputId": "0a062ed5-f893-4c11-db5c-7df924d220ef"
      },
      "outputs": [
        {
          "name": "stdout",
          "output_type": "stream",
          "text": [
            "Epoch 1/10\n",
            "WARNING:tensorflow:From c:\\Users\\user\\AppData\\Local\\Programs\\Python\\Python311\\Lib\\site-packages\\keras\\src\\utils\\tf_utils.py:492: The name tf.ragged.RaggedTensorValue is deprecated. Please use tf.compat.v1.ragged.RaggedTensorValue instead.\n",
            "\n"
          ]
        },
        {
          "name": "stderr",
          "output_type": "stream",
          "text": [
            "WARNING:tensorflow:From c:\\Users\\user\\AppData\\Local\\Programs\\Python\\Python311\\Lib\\site-packages\\keras\\src\\utils\\tf_utils.py:492: The name tf.ragged.RaggedTensorValue is deprecated. Please use tf.compat.v1.ragged.RaggedTensorValue instead.\n",
            "\n"
          ]
        },
        {
          "name": "stdout",
          "output_type": "stream",
          "text": [
            "WARNING:tensorflow:From c:\\Users\\user\\AppData\\Local\\Programs\\Python\\Python311\\Lib\\site-packages\\keras\\src\\engine\\base_layer_utils.py:384: The name tf.executing_eagerly_outside_functions is deprecated. Please use tf.compat.v1.executing_eagerly_outside_functions instead.\n",
            "\n"
          ]
        },
        {
          "name": "stderr",
          "output_type": "stream",
          "text": [
            "WARNING:tensorflow:From c:\\Users\\user\\AppData\\Local\\Programs\\Python\\Python311\\Lib\\site-packages\\keras\\src\\engine\\base_layer_utils.py:384: The name tf.executing_eagerly_outside_functions is deprecated. Please use tf.compat.v1.executing_eagerly_outside_functions instead.\n",
            "\n"
          ]
        },
        {
          "name": "stdout",
          "output_type": "stream",
          "text": [
            "139/139 [==============================] - 118s 827ms/step - loss: 2.0260 - accuracy: 0.4570 - val_loss: 1.6739 - val_accuracy: 0.5294\n",
            "Epoch 2/10\n",
            "139/139 [==============================] - 109s 787ms/step - loss: 1.5346 - accuracy: 0.5679 - val_loss: 1.5427 - val_accuracy: 0.5610\n",
            "Epoch 3/10\n",
            "139/139 [==============================] - 109s 780ms/step - loss: 1.4201 - accuracy: 0.5896 - val_loss: 1.4882 - val_accuracy: 0.5750\n",
            "Epoch 4/10\n",
            "139/139 [==============================] - 110s 788ms/step - loss: 1.3680 - accuracy: 0.6002 - val_loss: 1.4724 - val_accuracy: 0.5707\n",
            "Epoch 5/10\n",
            "139/139 [==============================] - 114s 814ms/step - loss: 1.3164 - accuracy: 0.6116 - val_loss: 1.4593 - val_accuracy: 0.5761\n",
            "Epoch 6/10\n",
            "139/139 [==============================] - 108s 777ms/step - loss: 1.2922 - accuracy: 0.6173 - val_loss: 1.4035 - val_accuracy: 0.5881\n",
            "Epoch 7/10\n",
            "139/139 [==============================] - 108s 773ms/step - loss: 1.2676 - accuracy: 0.6228 - val_loss: 1.4040 - val_accuracy: 0.5926\n",
            "Epoch 8/10\n",
            "139/139 [==============================] - 107s 771ms/step - loss: 1.2483 - accuracy: 0.6260 - val_loss: 1.3887 - val_accuracy: 0.6034\n",
            "Epoch 9/10\n",
            "139/139 [==============================] - 107s 770ms/step - loss: 1.2183 - accuracy: 0.6341 - val_loss: 1.3756 - val_accuracy: 0.5926\n",
            "Epoch 10/10\n",
            "139/139 [==============================] - 108s 773ms/step - loss: 1.2111 - accuracy: 0.6349 - val_loss: 1.3515 - val_accuracy: 0.6039\n"
          ]
        }
      ],
      "source": [
        "trained_model = model.fit(\n",
        "    (train),\n",
        "    validation_data=(validation_dataset),\n",
        "    epochs = 10)"
      ]
    },
    {
      "cell_type": "code",
      "execution_count": 9,
      "metadata": {
        "id": "1hH963obc8bx"
      },
      "outputs": [
        {
          "data": {
            "text/plain": [
              "[<matplotlib.lines.Line2D at 0x1a6e57b7890>]"
            ]
          },
          "execution_count": 9,
          "metadata": {},
          "output_type": "execute_result"
        },
        {
          "data": {
            "image/png": "[encoded data removed]",
            "text/plain": [
              "<Figure size 640x480 with 1 Axes>"
            ]
          },
          "metadata": {},
          "output_type": "display_data"
        }
      ],
      "source": [
        "plt.plot(range(10), trained_model.history['accuracy' ], 'blue')\n",
        "plt.plot(range(10), trained_model.history['val_accuracy'], 'red')"
      ]
    }
  ],
  "metadata": {
    "accelerator": "TPU",
    "colab": {
      "gpuType": "V28",
      "provenance": []
    },
    "kernelspec": {
      "display_name": "Python 3",
      "name": "python3"
    },
    "language_info": {
      "codemirror_mode": {
        "name": "ipython",
        "version": 3
      },
      "file_extension": ".py",
      "mimetype": "text/x-python",
      "name": "python",
      "nbconvert_exporter": "python",
      "pygments_lexer": "ipython3",
      "version": "3.11.5"
    }
  },
  "nbformat": 4,
  "nbformat_minor": 0
}
